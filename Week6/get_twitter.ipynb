{
 "cells": [
  {
   "cell_type": "code",
   "execution_count": 1,
   "metadata": {},
   "outputs": [],
   "source": [
    "import twitter\n",
    "consumer_key = \"MoBMZzE77TLwpXMTm7Tm37401\"\n",
    "consumer_secret = \"jGPRxos03zyoqz5trR0ynR9RHTffkYXBUljtRSish3P8YDl9er\"\n",
    "access_token = \"2835297398-uHudH16cyj5lkDTrWJMOYUhTulYwc77nUZQn2Sv\"\n",
    "access_token_secret = \"eJINvSKJeHAdjnNFJl1PJVI2J9r7EVYrowVX4lsgCd2Aj\"\n",
    "authorization = twitter.OAuth(access_token, access_token_secret, consumer_key, consumer_secret)"
   ]
  },
  {
   "cell_type": "code",
   "execution_count": 2,
   "metadata": {},
   "outputs": [
    {
     "name": "stdout",
     "output_type": "stream",
     "text": [
      "C:\\Users\\sheth\\Documents\\Masters\\Spring2019\\Data Mining\\Assignments\\Week6\\python_tweets.json\n"
     ]
    }
   ],
   "source": [
    "import os\n",
    "output_filename = os.path.join(os.path.expanduser(\"~\"), \"Documents\\Masters\\Spring2019\\Data Mining\\Assignments\\Week6\", \"python_tweets.json\")\n",
    "print(output_filename)"
   ]
  },
  {
   "cell_type": "code",
   "execution_count": 3,
   "metadata": {},
   "outputs": [],
   "source": [
    "t = twitter.Twitter(auth=authorization)"
   ]
  },
  {
   "cell_type": "code",
   "execution_count": 5,
   "metadata": {},
   "outputs": [],
   "source": [
    "import json\n",
    "with open(output_filename, 'a' , newline='\\n' )  as output_file:\n",
    "    search_results = t.search.tweets(q=\"python\", lang=\"en\",  count=100)['statuses']\n",
    "   \n",
    "    for tweet in search_results:\n",
    "        if 'text' in tweet:\n",
    "            output_file.write(json.dumps(tweet))\n",
    "            output_file.write(\"\\n\\n\")"
   ]
  },
  {
   "cell_type": "code",
   "execution_count": null,
   "metadata": {},
   "outputs": [],
   "source": []
  }
 ],
 "metadata": {
  "kernelspec": {
   "display_name": "Python 3",
   "language": "python",
   "name": "python3"
  },
  "language_info": {
   "codemirror_mode": {
    "name": "ipython",
    "version": 3
   },
   "file_extension": ".py",
   "mimetype": "text/x-python",
   "name": "python",
   "nbconvert_exporter": "python",
   "pygments_lexer": "ipython3",
   "version": "3.7.1"
  }
 },
 "nbformat": 4,
 "nbformat_minor": 2
}
