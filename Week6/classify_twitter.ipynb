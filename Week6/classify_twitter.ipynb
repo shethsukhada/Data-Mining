{
 "cells": [
  {
   "cell_type": "code",
   "execution_count": 32,
   "metadata": {},
   "outputs": [],
   "source": [
    "import spacy\n",
    "from sklearn.base import TransformerMixin\n",
    "\n",
    "# Create a spaCy parser\n",
    "nlp = spacy.load('en')\n",
    "\n",
    "\n",
    "class BagOfWords(TransformerMixin):\n",
    "    def fit(self, X, y=None):\n",
    "        return self\n",
    "    \n",
    "    def transform(self, X):\n",
    "        results = []\n",
    "        for document in X:\n",
    "            row = {}\n",
    "            for word in list(nlp(document)):\n",
    "                if len(word.text.strip()):\n",
    "                    row[word.text] = True\n",
    "                    #print (row    )\n",
    "            results.append(row)\n",
    "        \n",
    "        \n",
    "        return results"
   ]
  },
  {
   "cell_type": "code",
   "execution_count": 33,
   "metadata": {},
   "outputs": [],
   "source": [
    "from sklearn.feature_extraction import DictVectorizer"
   ]
  },
  {
   "cell_type": "code",
   "execution_count": 34,
   "metadata": {},
   "outputs": [],
   "source": [
    "from sklearn.naive_bayes import BernoulliNB"
   ]
  },
  {
   "cell_type": "code",
   "execution_count": 35,
   "metadata": {},
   "outputs": [],
   "source": [
    "import os\n",
    "input_filename = os.path.join(os.path.expanduser(\"~\"), \"Documents\\Masters\\Spring2019\\Data Mining\\Assignments\\Week6\", \"python_tweets.json\")\n",
    "labels_filename = os.path.join(os.path.expanduser(\"~\"), \"Documents\\Masters\\Spring2019\\Data Mining\\Assignments\\Week6\", \"python_classes.json\")"
   ]
  },
  {
   "cell_type": "code",
   "execution_count": 42,
   "metadata": {},
   "outputs": [],
   "source": [
    "import json\n",
    "\n",
    "tweets = []\n",
    "with open(input_filename) as inf:\n",
    "    for line in inf:\n",
    "        if len(line.strip()) == 0: continue\n",
    "        tweets.append(json.loads(line)['text'])\n",
    "        \n",
    "#print(tweets)\n",
    "\n",
    "with open(labels_filename) as inf:\n",
    "    labels = json.load(inf)\n",
    "\n",
    "# Ensure only classified tweets are loaded\n",
    "tweets = tweets[:len(labels)]\n",
    "assert len(tweets) == len(labels)"
   ]
  },
  {
   "cell_type": "code",
   "execution_count": 37,
   "metadata": {},
   "outputs": [],
   "source": [
    "from sklearn.pipeline import Pipeline\n",
    "\n",
    "pipeline = Pipeline([('bag-of-words', BagOfWords()), ('vectorizer', DictVectorizer()), ('naive-bayes', BernoulliNB()) ])"
   ]
  },
  {
   "cell_type": "code",
   "execution_count": 38,
   "metadata": {},
   "outputs": [
    {
     "name": "stdout",
     "output_type": "stream",
     "text": [
      "Score: 0.834\n"
     ]
    }
   ],
   "source": [
    "from sklearn.model_selection import cross_val_score\n",
    "scores = cross_val_score(pipeline, tweets, labels, scoring='f1' , cv=3 , error_score= 'raise')\n",
    "#We then print out the average of the scores:\n",
    "import numpy as np\n",
    "print(\"Score: {:.3f}\".format(np.mean(scores)))"
   ]
  },
  {
   "cell_type": "code",
   "execution_count": 39,
   "metadata": {},
   "outputs": [],
   "source": [
    "from sklearn.pipeline import Pipeline\n",
    "\n",
    "pipeline = Pipeline([('bag-of-words', BagOfWords()), ('vectorizer', DictVectorizer()), ('naive-bayes', BernoulliNB()) ])"
   ]
  },
  {
   "cell_type": "code",
   "execution_count": 40,
   "metadata": {},
   "outputs": [
    {
     "name": "stdout",
     "output_type": "stream",
     "text": [
      "Score: 0.834\n"
     ]
    }
   ],
   "source": [
    "from sklearn.model_selection import cross_val_score\n",
    "scores = cross_val_score(pipeline, tweets, labels, scoring='f1', cv=3)\n",
    "#We then print out the average of the scores:\n",
    "import numpy as np\n",
    "print(\"Score: {:.3f}\".format(np.mean(scores)))"
   ]
  },
  {
   "cell_type": "code",
   "execution_count": 10,
   "metadata": {},
   "outputs": [],
   "source": [
    "model = pipeline.fit(tweets, labels)"
   ]
  },
  {
   "cell_type": "code",
   "execution_count": 11,
   "metadata": {},
   "outputs": [],
   "source": [
    "nb = model.named_steps['naive-bayes']\n",
    "feature_probabilities = nb.feature_log_prob_"
   ]
  },
  {
   "cell_type": "code",
   "execution_count": 12,
   "metadata": {},
   "outputs": [],
   "source": [
    "top_features = np.argsort(-nb.feature_log_prob_[1])[:50]"
   ]
  },
  {
   "cell_type": "code",
   "execution_count": 13,
   "metadata": {},
   "outputs": [],
   "source": [
    "dv = model.named_steps['vectorizer']"
   ]
  },
  {
   "cell_type": "code",
   "execution_count": 14,
   "metadata": {},
   "outputs": [
    {
     "name": "stdout",
     "output_type": "stream",
     "text": [
      "0 : 0.7142857142857143\n",
      "1 … 0.5714285714285714\n",
      "2 # 0.5714285714285714\n",
      "3 RT 0.5714285714285714\n",
      "4 . 0.4523809523809522\n",
      "5 Python 0.42857142857142844\n",
      "6 for 0.3809523809523809\n",
      "7 BigData 0.3571428571428571\n",
      "8 Analytics 0.3571428571428571\n",
      "9 AI 0.3571428571428571\n",
      "10 DataScience 0.3571428571428571\n",
      "11 MachineLearning 0.3333333333333332\n",
      "12 to 0.3333333333333332\n",
      "13 @gp_pulipaka 0.3333333333333332\n",
      "14 IoT 0.3333333333333332\n",
      "15 IIoT 0.2857142857142857\n",
      "16 - 0.2857142857142857\n",
      "17 python 0.2619047619047619\n",
      "18 Deploying 0.2380952380952381\n",
      "19 with 0.2142857142857143\n",
      "20 Practices 0.2142857142857143\n",
      "21 Production 0.2142857142857143\n",
      "22 and 0.2142857142857143\n",
      "23 , 0.2142857142857143\n",
      "24 Code 0.2142857142857143\n",
      "25 Best 0.2142857142857143\n",
      "26 PyTorch 0.2142857142857143\n",
      "27 in 0.16666666666666663\n",
      "28 ☞ 0.14285714285714285\n",
      "29 Data 0.119047619047619\n",
      "30 A 0.119047619047619\n",
      "31 ! 0.119047619047619\n",
      "32 programming 0.119047619047619\n",
      "33 a 0.119047619047619\n",
      "34 Science 0.119047619047619\n",
      "35 ( 0.119047619047619\n",
      "36 With 0.0952380952380952\n",
      "37 Z 0.0952380952380952\n",
      "38 on 0.0952380952380952\n",
      "39 of 0.0952380952380952\n",
      "40 ) 0.0952380952380952\n",
      "41 ™ 0.0952380952380952\n",
      "42 is 0.0952380952380952\n",
      "43 Exercises 0.0952380952380952\n",
      "44 For 0.0952380952380952\n",
      "45 some 0.0952380952380952\n",
      "46 Real 0.0952380952380952\n",
      "47 the 0.0952380952380952\n",
      "48 are 0.07142857142857141\n",
      "49 RStudio 0.07142857142857141\n"
     ]
    }
   ],
   "source": [
    "for i, feature_index in enumerate(top_features):\n",
    "    print(i, dv.feature_names_[feature_index], np.exp(feature_probabilities[1][feature_index]))"
   ]
  },
  {
   "cell_type": "code",
   "execution_count": null,
   "metadata": {},
   "outputs": [],
   "source": []
  },
  {
   "cell_type": "code",
   "execution_count": null,
   "metadata": {},
   "outputs": [],
   "source": []
  }
 ],
 "metadata": {
  "kernelspec": {
   "display_name": "Python 3",
   "language": "python",
   "name": "python3"
  },
  "language_info": {
   "codemirror_mode": {
    "name": "ipython",
    "version": 3
   },
   "file_extension": ".py",
   "mimetype": "text/x-python",
   "name": "python",
   "nbconvert_exporter": "python",
   "pygments_lexer": "ipython3",
   "version": "3.7.1"
  }
 },
 "nbformat": 4,
 "nbformat_minor": 2
}
