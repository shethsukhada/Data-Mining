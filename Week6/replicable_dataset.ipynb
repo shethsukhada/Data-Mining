{
 "cells": [
  {
   "cell_type": "code",
   "execution_count": 1,
   "metadata": {},
   "outputs": [
    {
     "name": "stdout",
     "output_type": "stream",
     "text": [
      "C:\\Users\\sheth\\Documents\\Masters\\Spring2019\\Data Mining\\Assignments\\Week6\\replicable_dataset.json\n"
     ]
    }
   ],
   "source": [
    "\n",
    "\n",
    "import os\n",
    "input_filename = os.path.join(os.path.expanduser(\"~\"), \"Documents\\Masters\\Spring2019\\Data Mining\\Assignments\\Week6\", \"python_tweets.json\")\n",
    "labels_filename = os.path.join(os.path.expanduser(\"~\"), \"Documents\\Masters\\Spring2019\\Data Mining\\Assignments\\Week6\", \"python_classes.json\")\n",
    "replicable_dataset = os.path.join(os.path.expanduser(\"~\"), \"Documents\\Masters\\Spring2019\\Data Mining\\Assignments\\Week6\", \"replicable_dataset.json\")\n",
    "\n",
    "print(replicable_dataset)"
   ]
  },
  {
   "cell_type": "code",
   "execution_count": 2,
   "metadata": {},
   "outputs": [],
   "source": [
    "import json\n",
    "tweets = []\n",
    "with open(input_filename) as inf:\n",
    "    for line in inf:\n",
    "        if len(line.strip()) == 0:\n",
    "            continue\n",
    "        tweets.append(json.loads(line))\n",
    "if os.path.exists(labels_filename):\n",
    "    with open(labels_filename) as inf:\n",
    "        labels = json.load(inf)"
   ]
  },
  {
   "cell_type": "code",
   "execution_count": 3,
   "metadata": {},
   "outputs": [],
   "source": [
    "dataset = [(tweet['id'], label) for label, tweet in zip(labels, tweets)]"
   ]
  },
  {
   "cell_type": "code",
   "execution_count": 4,
   "metadata": {},
   "outputs": [
    {
     "name": "stdout",
     "output_type": "stream",
     "text": [
      "[(1104410464455286784, 1), (1104410462484086784, 1), (1104410413511397377, 1), (1104410391478763526, 1), (1104410376849031170, 0), (1104410357056053254, 0), (1104410337141575680, 1), (1104410234334990336, 1), (1104410231696572416, 1), (1104410091585847296, 1), (1104410028944035846, 1), (1104410028889522177, 1), (1104409954574721025, 1), (1104409923939635201, 1), (1104409808671662080, 1), (1104409803030441984, 1), (1104409745711079424, 1), (1104409742003310592, 1), (1104409702652354563, 1), (1104409698789441539, 1), (1104409686626000896, 1), (1104409678325403648, 0), (1104409672000434176, 1), (1104409664928866304, 1), (1104409642174763009, 1), (1104409613489840128, 1), (1104409585769738240, 1), (1104409577309782016, 1), (1104409558070513664, 1), (1104409518858006528, 1), (1104409479758655490, 1), (1104409449308057600, 1), (1104409410338729984, 1), (1104409389975236614, 0), (1104409376188698629, 0), (1104409254897876992, 0), (1104409254885236739, 1), (1104409198291501056, 0), (1104409173956136960, 1), (1104409101080186880, 1), (1104409074374987776, 0), (1104409055857074176, 0), (1104409043207184385, 1), (1104409009514340353, 1), (1104408907772919808, 1), (1104408895231946752, 0), (1104408883882348544, 1), (1104408813946445825, 1), (1104408808175079429, 1), (1104408732824469504, 0), (1104408708455505926, 0), (1104408684719939585, 0), (1104408669234651142, 1)]\n"
     ]
    }
   ],
   "source": [
    "print(dataset)"
   ]
  },
  {
   "cell_type": "code",
   "execution_count": 5,
   "metadata": {},
   "outputs": [
    {
     "data": {
      "text/plain": [
       "(53, 100, 53)"
      ]
     },
     "execution_count": 5,
     "metadata": {},
     "output_type": "execute_result"
    }
   ],
   "source": [
    "len(dataset), len(tweets), len(labels)"
   ]
  },
  {
   "cell_type": "code",
   "execution_count": 6,
   "metadata": {},
   "outputs": [],
   "source": [
    "with open(replicable_dataset, 'w') as outf:\n",
    "    json.dump(dataset, outf)"
   ]
  },
  {
   "cell_type": "code",
   "execution_count": null,
   "metadata": {},
   "outputs": [],
   "source": []
  }
 ],
 "metadata": {
  "kernelspec": {
   "display_name": "Python 3",
   "language": "python",
   "name": "python3"
  },
  "language_info": {
   "codemirror_mode": {
    "name": "ipython",
    "version": 3
   },
   "file_extension": ".py",
   "mimetype": "text/x-python",
   "name": "python",
   "nbconvert_exporter": "python",
   "pygments_lexer": "ipython3",
   "version": "3.7.1"
  }
 },
 "nbformat": 4,
 "nbformat_minor": 2
}
