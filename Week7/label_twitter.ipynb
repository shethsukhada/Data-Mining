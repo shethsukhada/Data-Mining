{
 "cells": [
  {
   "cell_type": "code",
   "execution_count": 3,
   "metadata": {},
   "outputs": [
    {
     "name": "stdout",
     "output_type": "stream",
     "text": [
      "C:\\Users\\sheth\\Documents\\Masters\\Spring2019\\Data Mining\\Assignments\\Week7\\python_tweets.json\n",
      "C:\\Users\\sheth\\Documents\\Masters\\Spring2019\\Data Mining\\Assignments\\Week7\\python_classes.json\n"
     ]
    }
   ],
   "source": [
    "\n",
    "\n",
    "import json\n",
    "import os\n",
    "input_filename = os.path.join(os.path.expanduser(\"~\"),\"Documents\\Masters\\Spring2019\\Data Mining\\Assignments\\Week7\",\"python_tweets.json\")\n",
    "labels_filename = os.path.join(os.path.expanduser(\"~\"),\"Documents\\Masters\\Spring2019\\Data Mining\\Assignments\\Week7\",\"python_classes.json\")\n",
    "print(input_filename)\n",
    "print(labels_filename)"
   ]
  },
  {
   "cell_type": "code",
   "execution_count": 4,
   "metadata": {},
   "outputs": [],
   "source": [
    "tweets = []\n",
    "with open(input_filename) as inf:\n",
    "    for line in inf:\n",
    "        if(len(line.strip())) == 0:\n",
    "            continue\n",
    "        tweets.append(json.loads(line))\n",
    "        \n",
    "labels = []\n",
    "if os.path.exists(labels_filename):\n",
    "    with open(labels_filename) as inf:\n",
    "        labels = json.load(inf)\n",
    "        \n",
    "def get_next_tweet():\n",
    "    return tweets[len(labels)]['text']\n",
    "\n",
    "\n",
    "        \n",
    "    "
   ]
  },
  {
   "cell_type": "code",
   "execution_count": 5,
   "metadata": {},
   "outputs": [
    {
     "data": {
      "text/html": [
       "<div name=\"tweetbox\">\n",
       "    Instructions: Click in text box. Enter a 1 if the tweet is relevant, enter 0 otherwise.<br>\n",
       "    Tweet: <div id=\"tweet_text\" value=\"text\"></div><br>\n",
       "    <input type=text id=\"capture\"></input><br>\n",
       "</div>\n",
       "\n",
       "<script>\n",
       "function set_label(label){\n",
       "    var kernel = IPython.notebook.kernel;\n",
       "    kernel.execute(\"labels.append(\" + label + \")\");\n",
       "    load_next_tweet();\n",
       "}\n",
       "\n",
       "function load_next_tweet(){\n",
       "   var code_input = \"get_next_tweet()\";\n",
       "   var kernel = IPython.notebook.kernel;\n",
       "   var callbacks = { 'iopub' : {'output' : handle_output}};\n",
       "   kernel.execute(code_input, callbacks, {silent:false});\n",
       "}\n",
       "\n",
       "function handle_output(out){\n",
       "   console.log(out);\n",
       "   var res = out.content.data[\"text/plain\"];\n",
       "   $(\"div#tweet_text\").html(res);\n",
       "}\n",
       "\n",
       "$(\"input#capture\").keypress(function(e) {\n",
       "    console.log(e);\n",
       "      if(e.which == 48) {\n",
       "        // 0 pressed\n",
       "        set_label(0);\n",
       "        $(\"input#capture\").val(\"\");\n",
       "      }else if (e.which == 49){\n",
       "        // 1 pressed\n",
       "        set_label(1);  \n",
       "        $(\"input#capture\").val(\"\");\n",
       "      }\n",
       "});\n",
       "\n",
       "load_next_tweet();\n",
       "</script>\n"
      ],
      "text/plain": [
       "<IPython.core.display.HTML object>"
      ]
     },
     "metadata": {},
     "output_type": "display_data"
    }
   ],
   "source": [
    "%%html\n",
    "<div name=\"tweetbox\">\n",
    "    Instructions: Click in text box. Enter a 1 if the tweet is relevant, enter 0 otherwise.<br>\n",
    "    Tweet: <div id=\"tweet_text\" value=\"text\"></div><br>\n",
    "    <input type=text id=\"capture\"></input><br>\n",
    "</div>\n",
    "\n",
    "<script>\n",
    "function set_label(label){\n",
    "    var kernel = IPython.notebook.kernel;\n",
    "    kernel.execute(\"labels.append(\" + label + \")\");\n",
    "    load_next_tweet();\n",
    "}\n",
    "\n",
    "function load_next_tweet(){\n",
    "   var code_input = \"get_next_tweet()\";\n",
    "   var kernel = IPython.notebook.kernel;\n",
    "   var callbacks = { 'iopub' : {'output' : handle_output}};\n",
    "   kernel.execute(code_input, callbacks, {silent:false});\n",
    "}\n",
    "\n",
    "function handle_output(out){\n",
    "   console.log(out);\n",
    "   var res = out.content.data[\"text/plain\"];\n",
    "   $(\"div#tweet_text\").html(res);\n",
    "}\n",
    "\n",
    "$(\"input#capture\").keypress(function(e) {\n",
    "    console.log(e);\n",
    "      if(e.which == 48) {\n",
    "        // 0 pressed\n",
    "        set_label(0);\n",
    "        $(\"input#capture\").val(\"\");\n",
    "      }else if (e.which == 49){\n",
    "        // 1 pressed\n",
    "        set_label(1);  \n",
    "        $(\"input#capture\").val(\"\");\n",
    "      }\n",
    "});\n",
    "\n",
    "load_next_tweet();\n",
    "</script>"
   ]
  },
  {
   "cell_type": "code",
   "execution_count": 6,
   "metadata": {},
   "outputs": [],
   "source": [
    "with open(labels_filename, 'w') as outf:\n",
    "    json.dump(labels, outf)"
   ]
  },
  {
   "cell_type": "code",
   "execution_count": 12,
   "metadata": {},
   "outputs": [],
   "source": []
  },
  {
   "cell_type": "code",
   "execution_count": null,
   "metadata": {},
   "outputs": [],
   "source": []
  }
 ],
 "metadata": {
  "kernelspec": {
   "display_name": "Python 3",
   "language": "python",
   "name": "python3"
  },
  "language_info": {
   "codemirror_mode": {
    "name": "ipython",
    "version": 3
   },
   "file_extension": ".py",
   "mimetype": "text/x-python",
   "name": "python",
   "nbconvert_exporter": "python",
   "pygments_lexer": "ipython3",
   "version": "3.7.1"
  }
 },
 "nbformat": 4,
 "nbformat_minor": 2
}
