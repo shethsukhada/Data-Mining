{
 "cells": [
  {
   "cell_type": "code",
   "execution_count": 1,
   "metadata": {},
   "outputs": [],
   "source": [
    "import spacy\n",
    "from sklearn.base import TransformerMixin\n",
    "\n",
    "# Create a spaCy parser\n",
    "nlp = spacy.load('en')\n",
    "\n",
    "\n",
    "class BagOfWords(TransformerMixin):\n",
    "    def fit(self, X, y=None):\n",
    "        return self\n",
    "    \n",
    "    def transform(self, X):\n",
    "        results = []\n",
    "        for document in X:\n",
    "            row = {}\n",
    "            for word in list(nlp(document)):\n",
    "                if len(word.text.strip()):\n",
    "                    row[word.text] = True\n",
    "                    #print (row)\n",
    "            results.append(row)\n",
    "        \n",
    "        \n",
    "        return results"
   ]
  },
  {
   "cell_type": "code",
   "execution_count": 2,
   "metadata": {},
   "outputs": [],
   "source": [
    "from sklearn.feature_extraction import DictVectorizer"
   ]
  },
  {
   "cell_type": "code",
   "execution_count": 3,
   "metadata": {},
   "outputs": [],
   "source": [
    "from sklearn.naive_bayes import BernoulliNB"
   ]
  },
  {
   "cell_type": "code",
   "execution_count": 4,
   "metadata": {},
   "outputs": [],
   "source": [
    "import os\n",
    "input_filename = os.path.join(os.path.expanduser(\"~\"), \"Documents\\Masters\\Spring2019\\Data Mining\\Assignments\\Week7\", \"python_tweets.json\")\n",
    "labels_filename = os.path.join(os.path.expanduser(\"~\"), \"Documents\\Masters\\Spring2019\\Data Mining\\Assignments\\Week7\", \"python_classes.json\")"
   ]
  },
  {
   "cell_type": "code",
   "execution_count": 5,
   "metadata": {},
   "outputs": [],
   "source": [
    "import json\n",
    "\n",
    "tweets = []\n",
    "with open(input_filename) as inf:\n",
    "    for line in inf:\n",
    "        if len(line.strip()) == 0: continue\n",
    "        tweets.append(json.loads(line)['text'])\n",
    "        \n",
    "#print(tweets)\n",
    "\n",
    "with open(labels_filename) as inf:\n",
    "    labels = json.load(inf)\n",
    "\n",
    "# Ensure only classified tweets are loaded\n",
    "tweets = tweets[:len(labels)]\n",
    "assert len(tweets) == len(labels)"
   ]
  },
  {
   "cell_type": "code",
   "execution_count": 6,
   "metadata": {},
   "outputs": [],
   "source": [
    "from sklearn.pipeline import Pipeline\n",
    "\n",
    "pipeline = Pipeline([('bag-of-words', BagOfWords()), ('vectorizer', DictVectorizer()), ('naive-bayes', BernoulliNB()) ])"
   ]
  },
  {
   "cell_type": "code",
   "execution_count": 7,
   "metadata": {},
   "outputs": [
    {
     "name": "stdout",
     "output_type": "stream",
     "text": [
      "Score: 0.778\n"
     ]
    }
   ],
   "source": [
    "from sklearn.model_selection import cross_val_score\n",
    "scores = cross_val_score(pipeline, tweets, labels, scoring='f1' , cv=3 , error_score= 'raise')\n",
    "#We then print out the average of the scores:\n",
    "import numpy as np\n",
    "print(\"Score: {:.3f}\".format(np.mean(scores)))"
   ]
  },
  {
   "cell_type": "code",
   "execution_count": null,
   "metadata": {},
   "outputs": [],
   "source": []
  },
  {
   "cell_type": "code",
   "execution_count": null,
   "metadata": {},
   "outputs": [],
   "source": []
  },
  {
   "cell_type": "code",
   "execution_count": 8,
   "metadata": {},
   "outputs": [],
   "source": [
    "model = pipeline.fit(tweets, labels)"
   ]
  },
  {
   "cell_type": "code",
   "execution_count": 9,
   "metadata": {},
   "outputs": [],
   "source": [
    "nb = model.named_steps['naive-bayes']\n",
    "feature_probabilities = nb.feature_log_prob_"
   ]
  },
  {
   "cell_type": "code",
   "execution_count": 10,
   "metadata": {},
   "outputs": [],
   "source": [
    "top_features = np.argsort(-nb.feature_log_prob_[1])[:50]"
   ]
  },
  {
   "cell_type": "code",
   "execution_count": 11,
   "metadata": {},
   "outputs": [],
   "source": [
    "dv = model.named_steps['vectorizer']"
   ]
  },
  {
   "cell_type": "code",
   "execution_count": 12,
   "metadata": {},
   "outputs": [
    {
     "name": "stdout",
     "output_type": "stream",
     "text": [
      "0 … 0.7377049180327867\n",
      "1 : 0.7049180327868851\n",
      "2 RT 0.6229508196721311\n",
      "3 # 0.5737704918032785\n",
      "4 Python 0.540983606557377\n",
      "5 a 0.3442622950819672\n",
      "6 to 0.3278688524590163\n",
      "7 python 0.3278688524590163\n",
      "8 . 0.3278688524590163\n",
      "9 and 0.2786885245901639\n",
      "10 , 0.2786885245901639\n",
      "11 with 0.24590163934426226\n",
      "12 in 0.24590163934426226\n",
      "13 the 0.21311475409836064\n",
      "14 - 0.18032786885245902\n",
      "15 you 0.1475409836065574\n",
      "16 I 0.1475409836065574\n",
      "17 that 0.1475409836065574\n",
      "18 django 0.1475409836065574\n",
      "19 of 0.1475409836065574\n",
      "20 ? 0.1311475409836065\n",
      "21 your 0.1311475409836065\n",
      "22 by 0.11475409836065574\n",
      "23 out 0.11475409836065574\n",
      "24 for 0.11475409836065574\n",
      "25 Django 0.11475409836065574\n",
      "26 is 0.11475409836065574\n",
      "27 AI 0.0983606557377049\n",
      "28 n't 0.0983606557377049\n",
      "29 it 0.0983606557377049\n",
      "30 MachineLearning 0.0983606557377049\n",
      "31 are 0.0983606557377049\n",
      "32 If 0.0983606557377049\n",
      "33 ! 0.0983606557377049\n",
      "34 Authentication 0.0819672131147541\n",
      "35 @JordanIrabor 0.0819672131147541\n",
      "36 dash 0.0819672131147541\n",
      "37 just 0.0819672131147541\n",
      "38 learn 0.0819672131147541\n",
      "39 conda 0.0819672131147541\n",
      "40 matplotlib 0.0819672131147541\n",
      "41 Facebook 0.0819672131147541\n",
      "42 media 0.0819672131147541\n",
      "43 social 0.0819672131147541\n",
      "44 opencv 0.0819672131147541\n",
      "45 scientists 0.0819672131147541\n",
      "46 or 0.0819672131147541\n",
      "47 ️ 0.0819672131147541\n",
      "48 api 0.0819672131147541\n",
      "49 sql 0.0819672131147541\n"
     ]
    }
   ],
   "source": [
    "for i, feature_index in enumerate(top_features):\n",
    "    print(i, dv.feature_names_[feature_index], np.exp(feature_probabilities[1][feature_index]))"
   ]
  },
  {
   "cell_type": "code",
   "execution_count": 13,
   "metadata": {},
   "outputs": [
    {
     "data": {
      "text/plain": [
       "['C:\\\\Users\\\\sheth\\\\Documents\\\\Masters\\\\Spring2019\\\\Data Mining\\\\Assignments\\\\Week7\\\\python_context.pkl']"
      ]
     },
     "execution_count": 13,
     "metadata": {},
     "output_type": "execute_result"
    }
   ],
   "source": [
    "import json\n",
    "import os\n",
    "from sklearn.externals import joblib\n",
    "output_filename = os.path.join(os.path.expanduser(\"~\"), \"Documents\\Masters\\Spring2019\\Data Mining\\Assignments\\Week7\", \"python_context.pkl\")\n",
    "joblib.dump(model,output_filename)\n"
   ]
  },
  {
   "cell_type": "code",
   "execution_count": null,
   "metadata": {},
   "outputs": [],
   "source": []
  }
 ],
 "metadata": {
  "kernelspec": {
   "display_name": "Python 3",
   "language": "python",
   "name": "python3"
  },
  "language_info": {
   "codemirror_mode": {
    "name": "ipython",
    "version": 3
   },
   "file_extension": ".py",
   "mimetype": "text/x-python",
   "name": "python",
   "nbconvert_exporter": "python",
   "pygments_lexer": "ipython3",
   "version": "3.7.1"
  }
 },
 "nbformat": 4,
 "nbformat_minor": 2
}
