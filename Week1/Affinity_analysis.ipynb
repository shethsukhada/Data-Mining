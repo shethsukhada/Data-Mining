{
 "cells": [
  {
   "cell_type": "code",
   "execution_count": 4,
   "metadata": {},
   "outputs": [],
   "source": [
    "import numpy as np\n",
    "dataset_filename = \"affinity_dataset.txt\"\n",
    "X= np.loadtxt(dataset_filename)\n",
    "\n",
    "\n"
   ]
  },
  {
   "cell_type": "code",
   "execution_count": 11,
   "metadata": {},
   "outputs": [
    {
     "name": "stdout",
     "output_type": "stream",
     "text": [
      "No of samples 100 and no of features 5\n",
      "[[0. 1. 0. 0. 0.]\n",
      " [1. 1. 0. 0. 0.]\n",
      " [0. 0. 1. 0. 1.]\n",
      " [1. 1. 0. 0. 0.]\n",
      " [0. 0. 1. 1. 1.]]\n",
      "<class 'numpy.ndarray'>\n",
      "(100, 5)\n"
     ]
    }
   ],
   "source": [
    "n_samples, n_features = X.shape\n",
    "checkkk = X.shape\n",
    "\n",
    "print('No of samples {0} and no of features {1}'.format(n_samples, n_features))\n",
    "\n",
    "print(X[:5])\n",
    "print(type(X))\n",
    "print(X.shape)"
   ]
  },
  {
   "cell_type": "code",
   "execution_count": 12,
   "metadata": {},
   "outputs": [
    {
     "name": "stdout",
     "output_type": "stream",
     "text": [
      "<class 'list'>\n",
      "43 people bought Apples\n",
      "27 cases of the rule being valid were discovered\n",
      "16 cases of the rule being invalid were discovered\n",
      "The support is 27 and the confidence is 0.628.\n",
      "As a percentage, that is 62.8%.\n"
     ]
    }
   ],
   "source": [
    "# The names of the features, .\n",
    "features = [\"bread\", \"milk\", \"cheese\", \"apples\", \"bananas\"]\n",
    "print(type(features))\n",
    "\n",
    "# computing the Support and Confidence of the rule \"If a person buys Apples, they also buy Bananas\".\n",
    "\n",
    "# First, how many rows contain the premise: that a person is buying apples\n",
    "num_apple_purchases = 0\n",
    "for sample in X:\n",
    "    if sample[3] == 1:  # This person bought Apples\n",
    "        num_apple_purchases += 1\n",
    "print(\"{0} people bought Apples\".format(num_apple_purchases))\n",
    "\n",
    "# How many of the cases that a person bought Apples involved the people purchasing Bananas too?\n",
    "# Record both cases where the rule is valid and is invalid.\n",
    "rule_valid = 0\n",
    "rule_invalid = 0\n",
    "for sample in X:\n",
    "    if sample[3] == 1:  # This person bought Apples\n",
    "        if sample[4] == 1:\n",
    "            # This person bought both Apples and Bananas\n",
    "            rule_valid += 1\n",
    "        else:\n",
    "            # This person bought Apples, but not Bananas\n",
    "            rule_invalid += 1\n",
    "print(\"{0} cases of the rule being valid were discovered\".format(rule_valid))\n",
    "print(\"{0} cases of the rule being invalid were discovered\".format(rule_invalid))\n",
    "\n",
    "# compute Support and Confidence\n",
    "support = rule_valid  # The Support is the number of times the rule is discovered.\n",
    "confidence = rule_valid / num_apple_purchases\n",
    "print(\"The support is {0} and the confidence is {1:.3f}.\".format(support, confidence))\n",
    "# Confidence can be thought of as a percentage using the following:\n",
    "print(\"As a percentage, that is {0:.1f}%.\".format(100 * confidence))"
   ]
  },
  {
   "cell_type": "code",
   "execution_count": 14,
   "metadata": {},
   "outputs": [
    {
     "name": "stdout",
     "output_type": "stream",
     "text": [
      "defaultdict(<class 'int'>, {(0, 1): 13, (1, 0): 13, (2, 4): 20, (4, 2): 20, (2, 3): 22, (3, 2): 22, (3, 4): 27, (4, 3): 27, (1, 3): 18, (3, 1): 18, (1, 4): 27, (4, 1): 27, (0, 2): 5, (2, 0): 5, (0, 4): 16, (4, 0): 16, (1, 2): 11, (2, 1): 11, (0, 3): 9, (3, 0): 9})\n",
      "Rule: If a person buys bread they will also buy milk\n",
      " - Confidence: 0.464\n",
      " - Support: 13\n",
      "\n",
      "Rule: If a person buys milk they will also buy bread\n",
      " - Confidence: 0.250\n",
      " - Support: 13\n",
      "\n",
      "Rule: If a person buys cheese they will also buy bananas\n",
      " - Confidence: 0.513\n",
      " - Support: 20\n",
      "\n",
      "Rule: If a person buys bananas they will also buy cheese\n",
      " - Confidence: 0.351\n",
      " - Support: 20\n",
      "\n",
      "Rule: If a person buys cheese they will also buy apples\n",
      " - Confidence: 0.564\n",
      " - Support: 22\n",
      "\n",
      "Rule: If a person buys apples they will also buy cheese\n",
      " - Confidence: 0.512\n",
      " - Support: 22\n",
      "\n",
      "Rule: If a person buys apples they will also buy bananas\n",
      " - Confidence: 0.628\n",
      " - Support: 27\n",
      "\n",
      "Rule: If a person buys bananas they will also buy apples\n",
      " - Confidence: 0.474\n",
      " - Support: 27\n",
      "\n",
      "Rule: If a person buys milk they will also buy apples\n",
      " - Confidence: 0.346\n",
      " - Support: 18\n",
      "\n",
      "Rule: If a person buys apples they will also buy milk\n",
      " - Confidence: 0.419\n",
      " - Support: 18\n",
      "\n",
      "Rule: If a person buys milk they will also buy bananas\n",
      " - Confidence: 0.519\n",
      " - Support: 27\n",
      "\n",
      "Rule: If a person buys bananas they will also buy milk\n",
      " - Confidence: 0.474\n",
      " - Support: 27\n",
      "\n",
      "Rule: If a person buys bread they will also buy cheese\n",
      " - Confidence: 0.179\n",
      " - Support: 5\n",
      "\n",
      "Rule: If a person buys cheese they will also buy bread\n",
      " - Confidence: 0.128\n",
      " - Support: 5\n",
      "\n",
      "Rule: If a person buys bread they will also buy bananas\n",
      " - Confidence: 0.571\n",
      " - Support: 16\n",
      "\n",
      "Rule: If a person buys bananas they will also buy bread\n",
      " - Confidence: 0.281\n",
      " - Support: 16\n",
      "\n",
      "Rule: If a person buys milk they will also buy cheese\n",
      " - Confidence: 0.212\n",
      " - Support: 11\n",
      "\n",
      "Rule: If a person buys cheese they will also buy milk\n",
      " - Confidence: 0.282\n",
      " - Support: 11\n",
      "\n",
      "Rule: If a person buys bread they will also buy apples\n",
      " - Confidence: 0.321\n",
      " - Support: 9\n",
      "\n",
      "Rule: If a person buys apples they will also buy bread\n",
      " - Confidence: 0.209\n",
      " - Support: 9\n",
      "\n"
     ]
    }
   ],
   "source": [
    "#Finding Rule : If a person buys product X, then they are likely to purchase product Y.\n",
    "\n",
    "#Step 1 - Derive Support and Confidence\n",
    "\n",
    "from collections import defaultdict\n",
    "valid_rules = defaultdict(int)\n",
    "invalid_rules = defaultdict(int)\n",
    "num_occurences = defaultdict(int)\n",
    "\n",
    "for sample in X:\n",
    "    for premise in range(n_features):\n",
    "        if sample[premise] == 1:\n",
    "            num_occurences[premise] += 1\n",
    "            for conclusion in range(n_features):\n",
    "                if premise != conclusion:\n",
    "                        if sample[conclusion] == 1 :\n",
    "                            valid_rules[(premise,conclusion)] += 1\n",
    "                        else:\n",
    "                            invalid_rules[(premise,conclusion)] += 1\n",
    "                           \n",
    "\n",
    "                      \n",
    "support = valid_rules\n",
    "confidence = defaultdict(float)\n",
    "\n",
    "# The names of the features,\n",
    "features = [\"bread\", \"milk\", \"cheese\", \"apples\", \"bananas\"]\n",
    "\n",
    "for premise, conclusion in valid_rules.keys():\n",
    "    confidence[(premise,conclusion)] = valid_rules[(premise,conclusion)] / num_occurences[premise]\n",
    "    \n",
    "def print_rule(premise, conclusion, support, confidence, features):\n",
    "        print(\"Rule: If a person buys {0} they will also buy {1}\".format(features[premise], features[conclusion]))\n",
    "        print(\" - Confidence: {0:.3f}\".format(confidence[(premise, conclusion)]))\n",
    "        print(\" - Support: {0}\".format(support[(premise, conclusion)]))\n",
    "        print(\"\")       \n",
    "\n",
    "\n",
    "for premise, conclusion in confidence:\n",
    "    print_rule(premise,conclusion,support,confidence,features) \n",
    "      \n"
   ]
  },
  {
   "cell_type": "code",
   "execution_count": 4,
   "metadata": {},
   "outputs": [
    {
     "name": "stdout",
     "output_type": "stream",
     "text": [
      "[((0, 1), 13),\n",
      " ((1, 0), 13),\n",
      " ((2, 4), 20),\n",
      " ((4, 2), 20),\n",
      " ((2, 3), 22),\n",
      " ((3, 2), 22),\n",
      " ((3, 4), 27),\n",
      " ((4, 3), 27),\n",
      " ((1, 3), 18),\n",
      " ((3, 1), 18),\n",
      " ((1, 4), 27),\n",
      " ((4, 1), 27),\n",
      " ((0, 2), 5),\n",
      " ((2, 0), 5),\n",
      " ((0, 4), 16),\n",
      " ((4, 0), 16),\n",
      " ((1, 2), 11),\n",
      " ((2, 1), 11),\n",
      " ((0, 3), 9),\n",
      " ((3, 0), 9)]\n"
     ]
    }
   ],
   "source": [
    "# Sort by support\n",
    "from pprint import pprint\n",
    "pprint(list(support.items()))"
   ]
  },
  {
   "cell_type": "code",
   "execution_count": 20,
   "metadata": {},
   "outputs": [
    {
     "name": "stdout",
     "output_type": "stream",
     "text": [
      "[((3, 4), 0.627906976744186), ((0, 4), 0.5714285714285714), ((2, 3), 0.5641025641025641), ((1, 4), 0.5192307692307693), ((2, 4), 0.5128205128205128), ((3, 2), 0.5116279069767442), ((4, 3), 0.47368421052631576), ((4, 1), 0.47368421052631576), ((0, 1), 0.4642857142857143), ((3, 1), 0.4186046511627907), ((4, 2), 0.3508771929824561), ((1, 3), 0.34615384615384615), ((0, 3), 0.32142857142857145), ((2, 1), 0.28205128205128205), ((4, 0), 0.2807017543859649), ((1, 0), 0.25), ((1, 2), 0.21153846153846154), ((3, 0), 0.20930232558139536), ((0, 2), 0.17857142857142858), ((2, 0), 0.1282051282051282), (0.47368421052631576, 0.0), (0.3508771929824561, 0.0), (0.2807017543859649, 0.0), (0.627906976744186, 0.0), (0.5116279069767442, 0.0), (0.4186046511627907, 0.0), (0.20930232558139536, 0.0), (0.5128205128205128, 0.0), (0.5641025641025641, 0.0), (0.28205128205128205, 0.0), (0.1282051282051282, 0.0), (0.5192307692307693, 0.0), (0.34615384615384615, 0.0), (0.21153846153846154, 0.0), (0.25, 0.0), (0.5714285714285714, 0.0), (0.32142857142857145, 0.0), (0.17857142857142858, 0.0), (0.4642857142857143, 0.0)]\n"
     ]
    }
   ],
   "source": [
    "from operator import itemgetter\n",
    "#Sort by Support and theb by confidence\n",
    "sorted_support = sorted(support.items(), key=itemgetter(1), reverse=True)\n",
    "sorted_confidence = sorted(confidence.items(), key=itemgetter(1), reverse=True)\n",
    "print(sorted_confidence)"
   ]
  },
  {
   "cell_type": "code",
   "execution_count": 21,
   "metadata": {},
   "outputs": [
    {
     "name": "stdout",
     "output_type": "stream",
     "text": [
      "####################   Top 5 Rules as per the confidence   ###############\n",
      "Rule#1\n",
      "Rule: If a person buys apples they will also buy bananas\n",
      " - Confidence: 0.628\n",
      " - Support: 27\n",
      "\n",
      "Rule#2\n",
      "Rule: If a person buys bread they will also buy bananas\n",
      " - Confidence: 0.571\n",
      " - Support: 16\n",
      "\n",
      "Rule#3\n",
      "Rule: If a person buys cheese they will also buy apples\n",
      " - Confidence: 0.564\n",
      " - Support: 22\n",
      "\n",
      "Rule#4\n",
      "Rule: If a person buys milk they will also buy bananas\n",
      " - Confidence: 0.519\n",
      " - Support: 27\n",
      "\n",
      "Rule#5\n",
      "Rule: If a person buys cheese they will also buy bananas\n",
      " - Confidence: 0.513\n",
      " - Support: 20\n",
      "\n",
      "####################   Top 5 Rules as per the Support ###############\n",
      "Rule#1\n",
      "Rule: If a person buys apples they will also buy bananas\n",
      " - Confidence: 0.628\n",
      " - Support: 27\n",
      "\n",
      "Rule#2\n",
      "Rule: If a person buys bananas they will also buy apples\n",
      " - Confidence: 0.474\n",
      " - Support: 27\n",
      "\n",
      "Rule#3\n",
      "Rule: If a person buys milk they will also buy bananas\n",
      " - Confidence: 0.519\n",
      " - Support: 27\n",
      "\n",
      "Rule#4\n",
      "Rule: If a person buys bananas they will also buy milk\n",
      " - Confidence: 0.474\n",
      " - Support: 27\n",
      "\n",
      "Rule#5\n",
      "Rule: If a person buys cheese they will also buy apples\n",
      " - Confidence: 0.564\n",
      " - Support: 22\n",
      "\n"
     ]
    }
   ],
   "source": [
    "print(\"####################   Top 5 Rules as per the confidence   ###############\")\n",
    "for index in range(5):\n",
    "    print('Rule#{0}'.format(index+1))\n",
    "    premise, conclusion = sorted_confidence[index][0]\n",
    "    print_rule(premise,conclusion,support,confidence,features)\n",
    "\n",
    "print(\"####################   Top 5 Rules as per the Support ###############\")    \n",
    "for index in range(5):\n",
    "    print('Rule#{0}'.format(index+1))\n",
    "    premise, conclusion = sorted_support[index][0]\n",
    "    print_rule(premise,conclusion,support,confidence,features)\n",
    "          \n",
    "    \n",
    "    "
   ]
  },
  {
   "cell_type": "code",
   "execution_count": 23,
   "metadata": {},
   "outputs": [
    {
     "data": {
      "text/plain": [
       "[<matplotlib.lines.Line2D at 0x214e6864fd0>]"
      ]
     },
     "execution_count": 23,
     "metadata": {},
     "output_type": "execute_result"
    },
    {
     "data": {
      "image/png": "[encoded data removed]",
      "text/plain": [
       "<Figure size 432x288 with 1 Axes>"
      ]
     },
     "metadata": {
      "needs_background": "light"
     },
     "output_type": "display_data"
    }
   ],
   "source": [
    "from matplotlib import pyplot as plt\n",
    "plt.plot([rule[1] for rule in sorted_confidence])"
   ]
  },
  {
   "cell_type": "code",
   "execution_count": null,
   "metadata": {},
   "outputs": [],
   "source": []
  },
  {
   "cell_type": "code",
   "execution_count": null,
   "metadata": {},
   "outputs": [],
   "source": []
  },
  {
   "cell_type": "code",
   "execution_count": null,
   "metadata": {},
   "outputs": [],
   "source": []
  },
  {
   "cell_type": "code",
   "execution_count": null,
   "metadata": {},
   "outputs": [],
   "source": []
  },
  {
   "cell_type": "code",
   "execution_count": null,
   "metadata": {},
   "outputs": [],
   "source": []
  }
 ],
 "metadata": {
  "kernelspec": {
   "display_name": "Python 3",
   "language": "python",
   "name": "python3"
  },
  "language_info": {
   "codemirror_mode": {
    "name": "ipython",
    "version": 3
   },
   "file_extension": ".py",
   "mimetype": "text/x-python",
   "name": "python",
   "nbconvert_exporter": "python",
   "pygments_lexer": "ipython3",
   "version": "3.7.1"
  }
 },
 "nbformat": 4,
 "nbformat_minor": 2
}
